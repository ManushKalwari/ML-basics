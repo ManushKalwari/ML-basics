{
  "nbformat": 4,
  "nbformat_minor": 0,
  "metadata": {
    "colab": {
      "provenance": []
    },
    "kernelspec": {
      "name": "python3",
      "display_name": "Python 3"
    },
    "language_info": {
      "name": "python"
    }
  },
  "cells": [
    {
      "cell_type": "markdown",
      "source": [
        "# Linear Layer (forward)\n",
        "\n",
        "Maps each input vector to a new space via an affine transformation.\n",
        "\n",
        "## 🧮 Formula\n",
        "\n",
        "Let  \n",
        "\n",
        "$$\n",
        "X \\in \\mathbb{R}^{N \\times D_{in}}\n",
        "$$\n",
        "*(input batch)*  \n",
        "\n",
        "$$\n",
        "W \\in \\mathbb{R}^{D_{in} \\times D_{out}}\n",
        "$$\n",
        "*(weight matrix)*  \n",
        "\n",
        "$$\n",
        "b \\in \\mathbb{R}^{D_{out}}\n",
        "$$\n",
        "*(bias vector)*  \n",
        "\n",
        "Then the forward pass is:\n",
        "\n",
        "$$\n",
        "Y = XW + b\n",
        "$$\n",
        "\n",
        "where \\( b \\) is broadcasted along the batch dimension.\n",
        "\n",
        "Output shape:\n",
        "\n",
        "$$\n",
        "Y \\in \\mathbb{R}^{N \\times D_{out}}\n",
        "$$\n",
        "\n"
      ],
      "metadata": {
        "id": "nXueWowb9RRu"
      }
    },
    {
      "cell_type": "code",
      "execution_count": 7,
      "metadata": {
        "id": "tuhbc_tN6djm"
      },
      "outputs": [],
      "source": [
        "import numpy as np\n",
        "import matplotlib.pyplot as plt\n",
        "\n",
        "class Linear:\n",
        "\n",
        "    def __init__(self, in_features: int, out_features: int, bias: bool = True):\n",
        "\n",
        "        self.W = np.random.randn(in_features, out_features) * 0.01\n",
        "        self.b = np.zeros(out_features) if bias else None\n",
        "\n",
        "\n",
        "    def forward(self, X: np.ndarray) -> np.ndarray:\n",
        "\n",
        "        out = X @ self.W  # (N, D_in) @ (D_in, D_out) -> (N, D_out)\n",
        "        if self.b is not None:\n",
        "\n",
        "            # broadcast over batch dimension\n",
        "            out = out + self.b\n",
        "        return out"
      ]
    },
    {
      "cell_type": "markdown",
      "source": [
        "# Pytorch implementation"
      ],
      "metadata": {
        "id": "CjHW_hZ78zpp"
      }
    },
    {
      "cell_type": "code",
      "source": [
        "import torch\n",
        "import torch.nn as nn\n",
        "\n",
        "class LinearTorch(nn.Module):\n",
        "\n",
        "    def __init__(self, in_features, out_features, bias=True):\n",
        "        super().__init__()\n",
        "        self.W = nn.Parameter(torch.randn(in_features, out_features) * 0.01)\n",
        "        self.b = nn.Parameter(torch.zeros(out_features)) if bias else None\n",
        "\n",
        "    def forward(self, X):  # X: (N, D_in)\n",
        "        out = X @ self.W   # (N, D_out)\n",
        "        if self.b is not None:\n",
        "            out = out + self.b\n",
        "        return out"
      ],
      "metadata": {
        "id": "gAoeJRwv8a_r"
      },
      "execution_count": 8,
      "outputs": []
    },
    {
      "cell_type": "markdown",
      "source": [
        "# Backrop\n",
        "\n",
        "\n",
        "**Goal:** Derive gradients of loss \\( L \\) w.r.t. weights, bias, and input.\n",
        "\n",
        "### Formula\n",
        "Given  \n",
        "$$\n",
        "Y = XW + b\n",
        "$$  \n",
        "and upstream gradient $$  \\frac{\\partial L}{\\partial Y} = dY  $$\n",
        "\n",
        "the gradients are:\n",
        "$$\n",
        "dW = X^T dY\n",
        "$$\n",
        "$$\n",
        "db = \\text{sum}(dY, \\text{axis}=0)\n",
        "$$\n",
        "$$\n",
        "dX = dY W^T\n",
        "$$"
      ],
      "metadata": {
        "id": "U5UdCTJSBBpC"
      }
    },
    {
      "cell_type": "code",
      "source": [
        "class Linear:\n",
        "    def __init__(self, in_features, out_features):\n",
        "        self.W = np.random.randn(in_features, out_features) * 0.01\n",
        "        self.b = np.zeros(out_features)\n",
        "\n",
        "    def forward(self, X):\n",
        "        self.X = X\n",
        "        return X @ self.W + self.b\n",
        "\n",
        "    def backward(self, dY):\n",
        "        dW = self.X.T @ dY\n",
        "        db = np.sum(dY, axis=0)\n",
        "        dX = dY @ self.W.T\n",
        "        return dX, dW, db"
      ],
      "metadata": {
        "id": "8tiaxiMqAw3y"
      },
      "execution_count": 9,
      "outputs": []
    },
    {
      "cell_type": "code",
      "source": [
        "def relu(x): return np.maximum(0, x)\n",
        "\n",
        "class TwoLayerMLP:\n",
        "    def __init__(self, D_in, H, D_out):\n",
        "        self.W1 = np.random.randn(D_in, H) * 0.01\n",
        "        self.b1 = np.zeros(H)\n",
        "        self.W2 = np.random.randn(H, D_out) * 0.01\n",
        "        self.b2 = np.zeros(D_out)\n",
        "\n",
        "    def forward(self, X):\n",
        "        self.X = X\n",
        "        self.h = relu(X @ self.W1 + self.b1)\n",
        "        return self.h @ self.W2 + self.b2"
      ],
      "metadata": {
        "id": "J_cVDx7L_33B"
      },
      "execution_count": 10,
      "outputs": []
    },
    {
      "cell_type": "markdown",
      "source": [
        "# 2-Layer MLP (Forward, ReLU)\n",
        "\n",
        "For one hidden layer:\n",
        "$$\n",
        "h = \\text{ReLU}(XW_1 + b_1)\n",
        "$$\n",
        "$$\n",
        "Y = hW_2 + b_2\n",
        "$$"
      ],
      "metadata": {
        "id": "yQ82I6GhBzOG"
      }
    },
    {
      "cell_type": "code",
      "source": [
        "def relu(x): return np.maximum(0, x)\n",
        "\n",
        "class TwoLayerMLP:\n",
        "    def __init__(self, D_in, H, D_out):\n",
        "        self.W1 = np.random.randn(D_in, H) * 0.01\n",
        "        self.b1 = np.zeros(H)\n",
        "        self.W2 = np.random.randn(H, D_out) * 0.01\n",
        "        self.b2 = np.zeros(D_out)\n",
        "\n",
        "    def forward(self, X):\n",
        "        self.X = X\n",
        "        self.h = relu(X @ self.W1 + self.b1)\n",
        "        return self.h @ self.W2 + self.b2"
      ],
      "metadata": {
        "id": "PBEwF5r6B5Mh"
      },
      "execution_count": 11,
      "outputs": []
    },
    {
      "cell_type": "markdown",
      "source": [
        "## 🔁 2-Layer MLP (Backward, ReLU)\n",
        "\n",
        "### Gradients\n",
        "\n",
        "$$\n",
        "dW_2 = h^T dY, \\quad db_2 = \\sum dY\n",
        "$$\n",
        "\n",
        "$$\n",
        "dh = dY W_2^T\n",
        "$$\n",
        "\n",
        "$$\n",
        "dh_{\\text{ReLU}} = dh \\cdot (h > 0)\n",
        "$$\n",
        "\n",
        "$$\n",
        "dW_1 = X^T dh_{\\text{ReLU}}, \\quad db_1 = \\sum dh_{\\text{ReLU}}\n",
        "$$\n"
      ],
      "metadata": {
        "id": "UgBVSHSECF9g"
      }
    },
    {
      "cell_type": "code",
      "source": [
        "def relu_grad(x): return (x > 0).astype(float)\n",
        "\n",
        "class TwoLayerMLP(TwoLayerMLP):\n",
        "\n",
        "    def backward(self, dY):\n",
        "\n",
        "        dW2 = self.h.T @ dY\n",
        "        db2 = np.sum(dY, axis=0)\n",
        "\n",
        "        dh = dY @ self.W2.T\n",
        "        dh_relu = dh * relu_grad(self.h)\n",
        "\n",
        "        dW1 = self.X.T @ dh_relu\n",
        "        db1 = np.sum(dh_relu, axis=0)\n",
        "\n",
        "        dX = dh_relu @ self.W1.T\n",
        "\n",
        "        return dX, (dW1, db1, dW2, db2)"
      ],
      "metadata": {
        "id": "OtAYqzI9B_Wh"
      },
      "execution_count": 12,
      "outputs": []
    },
    {
      "cell_type": "markdown",
      "source": [
        "## ☔ Day 19 — Dropout (Forward + Backward)\n",
        "\n",
        "### Formula\n",
        "Forward (train):\n",
        "$$\n",
        "\\text{mask} = (U > p), \\quad U \\sim \\text{Uniform}(0,1)\n",
        "$$\n",
        "$$\n",
        "Y = \\frac{X \\cdot \\text{mask}}{1-p}\n",
        "$$\n",
        "Backward:\n",
        "$$\n",
        "dX = \\frac{dY \\cdot \\text{mask}}{1-p}\n",
        "$$"
      ],
      "metadata": {
        "id": "ruB2J98bDuly"
      }
    },
    {
      "cell_type": "code",
      "source": [
        "class Dropout:\n",
        "    def __init__(self, p=0.5):\n",
        "        self.p = p\n",
        "\n",
        "    def forward(self, X, train=True):\n",
        "\n",
        "        if not train:\n",
        "            return X\n",
        "\n",
        "        self.mask = (np.random.rand(*X.shape) > self.p).astype(float)\n",
        "        return X * self.mask / (1 - self.p)\n",
        "\n",
        "    def backward(self, dY):\n",
        "        return dY * self.mask / (1 - self.p)"
      ],
      "metadata": {
        "id": "tA7i8Jz6CVDr"
      },
      "execution_count": 13,
      "outputs": []
    },
    {
      "cell_type": "markdown",
      "source": [
        "## 🧠 Intuition\n",
        "Dropout is a **regularization technique** used to prevent overfitting in neural networks.  \n",
        "During training, it **randomly \"drops\" (sets to zero)** a fraction \\( p \\) of neuron activations in a layer on each forward pass.  \n",
        "This forces the network to **not rely too heavily on specific neurons** and to learn redundant, robust representations.\n",
        "\n",
        "Mathematically (for a layer input \\( X \\)):\n",
        "$$\n",
        "\\text{mask} \\sim \\text{Bernoulli}(1 - p)\n",
        "$$\n",
        "$$\n",
        "Y = \\frac{X \\cdot \\text{mask}}{1 - p}\n",
        "$$\n",
        "At inference time, dropout is turned **off** and the activations are used as-is (already scaled by \\(1-p\\)).\n",
        "\n",
        "---\n",
        "\n",
        "## ⚙️ Core Idea\n",
        "Think of dropout as **training an ensemble of many smaller subnetworks** that share weights.  \n",
        "Each training batch sees a slightly different architecture (due to random drops),  \n",
        "and their combined effect behaves like model averaging — reducing variance and overfitting.\n",
        "\n",
        "---\n",
        "\n",
        "## 🚀 Practical Benefits\n",
        "- **Improves generalization** by discouraging co-adaptation of neurons.  \n",
        "- **Acts like model ensembling** but with almost zero extra computation.  \n",
        "- **Simplifies training dynamics** when used in dense layers of smaller to medium-sized networks.\n",
        "\n",
        "---\n",
        "\n",
        "## ⚠️ Caveats / Expert Notes\n",
        "- **Less effective in very large models** (e.g., modern transformers) — those already use  \n",
        "  techniques like **LayerNorm**, **residual connections**, and **weight decay** for regularization.  \n",
        "  Dropout can even hurt convergence there.\n",
        "- **BatchNorm + Dropout** can interact poorly: BatchNorm’s moving averages expect stable activation statistics,  \n",
        "  while dropout injects random noise — so most modern architectures (e.g., ResNet, ViT) avoid combining them.\n",
        "- **Don’t use at inference** — ensure `model.eval()` or `train=False` is set.\n",
        "- In large-scale pretraining (LLMs, ViTs), dropout rates are typically **very low (0.1–0.2)** or disabled entirely.\n",
        "\n",
        "---"
      ],
      "metadata": {
        "id": "vBYVjr-QL5Lv"
      }
    },
    {
      "cell_type": "code",
      "source": [
        "# ---------- Layers ----------\n",
        "\n",
        "class Linear:\n",
        "    def __init__(self, in_f, out_f):\n",
        "        self.W = np.random.randn(in_f, out_f) * 0.01\n",
        "        self.b = np.zeros(out_f)\n",
        "    def forward(self, X):\n",
        "        self.X = X\n",
        "        return X @ self.W + self.b\n",
        "    def backward(self, dY, lr=0.1):\n",
        "        dW = self.X.T @ dY\n",
        "        db = np.sum(dY, axis=0)\n",
        "        dX = dY @ self.W.T\n",
        "        self.W -= lr * dW\n",
        "        self.b -= lr * db\n",
        "        return dX"
      ],
      "metadata": {
        "id": "btlxpgj1LDEW"
      },
      "execution_count": null,
      "outputs": []
    },
    {
      "cell_type": "code",
      "source": [
        "# ---------- Utilities ----------\n",
        "\n",
        "def relu(x): return np.maximum(0, x)\n",
        "\n",
        "\n",
        "def relu_grad(x): return (x > 0).astype(float)\n",
        "\n",
        "\n",
        "def mse_loss(y_pred, y_true):\n",
        "    return np.mean((y_pred - y_true) ** 2), (2 * (y_pred - y_true)) / y_true.shape[0]"
      ],
      "metadata": {
        "id": "vZRJNDe3D4iY"
      },
      "execution_count": 14,
      "outputs": []
    },
    {
      "cell_type": "code",
      "source": [
        "# ---------- Simple MLP ----------\n",
        "\n",
        "class MLP:\n",
        "    def __init__(self, D_in, H, D_out, dropout_p=0.0):\n",
        "        self.fc1 = Linear(D_in, H)\n",
        "        self.dropout = Dropout(dropout_p)\n",
        "        self.fc2 = Linear(H, D_out)\n",
        "\n",
        "    def forward(self, X, train=True):\n",
        "        self.h = relu(self.fc1.forward(X))\n",
        "        self.h = self.dropout.forward(self.h, train)\n",
        "        return self.fc2.forward(self.h)\n",
        "\n",
        "    def backward(self, dY, lr=0.1):\n",
        "        dY = self.fc2.backward(dY, lr)\n",
        "        dY = dY * relu_grad(self.h)\n",
        "        dY = self.dropout.backward(dY)\n",
        "        self.fc1.backward(dY, lr)"
      ],
      "metadata": {
        "id": "hWCT9fi8Hfej"
      },
      "execution_count": 16,
      "outputs": []
    },
    {
      "cell_type": "code",
      "source": [
        "# ---------- Training loop ----------\n",
        "\n",
        "def train_model(dropout_p):\n",
        "    np.random.seed(0)\n",
        "    X = np.random.randn(200, 10)\n",
        "    true_W = np.random.randn(10, 1)\n",
        "    y = X @ true_W + 0.5 * np.random.randn(200, 1)\n",
        "\n",
        "    model = MLP(D_in=10, H=32, D_out=1, dropout_p=dropout_p)\n",
        "    losses = []\n",
        "    for epoch in range(100):\n",
        "        y_pred = model.forward(X, train=True)\n",
        "        loss, dY = mse_loss(y_pred, y)\n",
        "        losses.append(loss)\n",
        "        model.backward(dY)\n",
        "    return losses"
      ],
      "metadata": {
        "id": "pPTzKjrAHg0c"
      },
      "execution_count": 17,
      "outputs": []
    },
    {
      "cell_type": "code",
      "source": [
        "loss_no_dropout = train_model(dropout_p=0.0)\n",
        "loss_with_dropout = train_model(dropout_p=0.5)\n",
        "\n",
        "\n",
        "plt.plot(loss_no_dropout, label='No Dropout')\n",
        "plt.plot(loss_with_dropout, label='With Dropout (p=0.5)')\n",
        "plt.legend(); plt.xlabel(\"Epoch\"); plt.ylabel(\"Loss\"); plt.show()"
      ],
      "metadata": {
        "colab": {
          "base_uri": "https://localhost:8080/",
          "height": 449
        },
        "id": "AdPKI67jHian",
        "outputId": "e237c4f1-a709-4a53-e5f1-44080d3e78d2"
      },
      "execution_count": 18,
      "outputs": [
        {
          "output_type": "display_data",
          "data": {
            "text/plain": [
              "<Figure size 640x480 with 1 Axes>"
            ],
            "image/png": "[encoded data removed]"
          },
          "metadata": {}
        }
      ]
    }
  ]
}